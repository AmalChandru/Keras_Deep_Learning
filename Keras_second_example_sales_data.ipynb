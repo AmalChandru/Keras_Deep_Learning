{
 "cells": [
  {
   "cell_type": "code",
   "execution_count": 16,
   "metadata": {},
   "outputs": [],
   "source": [
    "from keras.models import Sequential\n",
    "from keras.layers import Dense\n",
    "import pandas as pd\n",
    "from sklearn.preprocessing import MinMaxScaler"
   ]
  },
  {
   "cell_type": "code",
   "execution_count": 3,
   "metadata": {
    "collapsed": true
   },
   "outputs": [],
   "source": [
    "# Load training data set from CSV files\n",
    "training_data = pd.read_csv('sales_data_training.csv')\n",
    "# Load testing data set from CSV files\n",
    "test_data = pd.read_csv('sales_data_test.csv')"
   ]
  },
  {
   "cell_type": "code",
   "execution_count": 4,
   "metadata": {
    "collapsed": true
   },
   "outputs": [],
   "source": [
    "# Data needs to be scaled to a small range like 0 to 1 for the nerual network to work well.\n",
    "scaler = MinMaxScaler(feature_range=(0,1))"
   ]
  },
  {
   "cell_type": "code",
   "execution_count": 37,
   "metadata": {},
   "outputs": [
    {
     "name": "stdout",
     "output_type": "stream",
     "text": [
      "NOte: total_earnings values were scaled by multiplying by 0.0000042367 and adding -0.153415\n"
     ]
    }
   ],
   "source": [
    "# Scale both the training inputs and outputs\n",
    "scaled_training = scaler.fit_transform(training_data)\n",
    "scaled_test = scaler.fit_transform(test_data)\n",
    "print(\"NOte: total_earnings values were scaled by multiplying by {:.10f} and adding {:.6f}\".format(scaler.scale_[8], scaler.min_[8]))"
   ]
  },
  {
   "cell_type": "code",
   "execution_count": null,
   "metadata": {
    "collapsed": true
   },
   "outputs": [],
   "source": [
    "# These two value would be using during Prediction.\n",
    "# NOte: total_earnings values were scaled by multiplying by 0.0000042367 and adding -0.153415\n"
   ]
  },
  {
   "cell_type": "code",
   "execution_count": 8,
   "metadata": {},
   "outputs": [],
   "source": [
    "scaled_training_df = pd.DataFrame(scaled_training, columns=training_data.columns)\n",
    "scaled_test_df = pd.DataFrame(scaled_test, columns=test_data.columns)"
   ]
  },
  {
   "cell_type": "code",
   "execution_count": 28,
   "metadata": {},
   "outputs": [],
   "source": [
    "X = scaled_training_df.drop('total_earnings',axis=1).values\n",
    "Y = scaled_training_df[['total_earnings']].values\n",
    "\n",
    "X_test = scaled_test_df.drop('total_earnings',axis=1).values\n",
    "Y_test = scaled_test_df[['total_earnings']].values"
   ]
  },
  {
   "cell_type": "code",
   "execution_count": 21,
   "metadata": {},
   "outputs": [],
   "source": [
    "# Define the Keras Model\n",
    "model = Sequential()\n",
    "model.add(Dense(50, input_dim = 9, activation = 'relu'))\n",
    "model.add(Dense(100, activation = 'relu'))\n",
    "model.add(Dense(50, activation = 'relu'))\n",
    "model.add(Dense(1, activation = 'linear'))"
   ]
  },
  {
   "cell_type": "code",
   "execution_count": 22,
   "metadata": {
    "collapsed": true
   },
   "outputs": [],
   "source": [
    "# Compile Model\n",
    "model.compile(loss='mean_squared_error', optimizer='adam')"
   ]
  },
  {
   "cell_type": "code",
   "execution_count": 26,
   "metadata": {},
   "outputs": [
    {
     "name": "stdout",
     "output_type": "stream",
     "text": [
      "Epoch 1/50\n",
      "1000/1000 [==============================] - 0s 51us/step - loss: 3.4150e-05\n",
      "Epoch 2/50\n",
      "1000/1000 [==============================] - 0s 44us/step - loss: 2.2442e-05\n",
      "Epoch 3/50\n",
      "1000/1000 [==============================] - 0s 43us/step - loss: 4.7502e-05\n",
      "Epoch 4/50\n",
      "1000/1000 [==============================] - 0s 40us/step - loss: 3.9636e-05\n",
      "Epoch 5/50\n",
      "1000/1000 [==============================] - 0s 39us/step - loss: 2.6871e-05\n",
      "Epoch 6/50\n",
      "1000/1000 [==============================] - 0s 48us/step - loss: 7.3499e-05\n",
      "Epoch 7/50\n",
      "1000/1000 [==============================] - 0s 46us/step - loss: 5.1731e-05\n",
      "Epoch 8/50\n",
      "1000/1000 [==============================] - 0s 48us/step - loss: 3.6176e-05\n",
      "Epoch 9/50\n",
      "1000/1000 [==============================] - 0s 43us/step - loss: 4.9972e-05\n",
      "Epoch 10/50\n",
      "1000/1000 [==============================] - 0s 43us/step - loss: 5.6925e-05\n",
      "Epoch 11/50\n",
      "1000/1000 [==============================] - 0s 40us/step - loss: 3.9005e-05\n",
      "Epoch 12/50\n",
      "1000/1000 [==============================] - 0s 43us/step - loss: 3.8683e-05\n",
      "Epoch 13/50\n",
      "1000/1000 [==============================] - 0s 44us/step - loss: 6.2348e-05\n",
      "Epoch 14/50\n",
      "1000/1000 [==============================] - 0s 44us/step - loss: 7.5888e-05\n",
      "Epoch 15/50\n",
      "1000/1000 [==============================] - 0s 48us/step - loss: 5.4055e-05\n",
      "Epoch 16/50\n",
      "1000/1000 [==============================] - 0s 43us/step - loss: 4.0813e-05\n",
      "Epoch 17/50\n",
      "1000/1000 [==============================] - 0s 46us/step - loss: 5.2784e-05\n",
      "Epoch 18/50\n",
      "1000/1000 [==============================] - 0s 44us/step - loss: 6.5382e-05\n",
      "Epoch 19/50\n",
      "1000/1000 [==============================] - 0s 40us/step - loss: 4.2149e-05\n",
      "Epoch 20/50\n",
      "1000/1000 [==============================] - 0s 40us/step - loss: 4.5286e-05\n",
      "Epoch 21/50\n",
      "1000/1000 [==============================] - 0s 45us/step - loss: 4.2381e-05\n",
      "Epoch 22/50\n",
      "1000/1000 [==============================] - 0s 44us/step - loss: 3.8184e-05\n",
      "Epoch 23/50\n",
      "1000/1000 [==============================] - 0s 45us/step - loss: 3.0819e-05\n",
      "Epoch 24/50\n",
      "1000/1000 [==============================] - 0s 39us/step - loss: 4.2354e-05\n",
      "Epoch 25/50\n",
      "1000/1000 [==============================] - 0s 38us/step - loss: 4.1343e-05\n",
      "Epoch 26/50\n",
      "1000/1000 [==============================] - 0s 44us/step - loss: 6.6081e-05\n",
      "Epoch 27/50\n",
      "1000/1000 [==============================] - 0s 45us/step - loss: 3.9379e-05\n",
      "Epoch 28/50\n",
      "1000/1000 [==============================] - 0s 46us/step - loss: 5.5095e-05\n",
      "Epoch 29/50\n",
      "1000/1000 [==============================] - 0s 47us/step - loss: 3.8422e-05\n",
      "Epoch 30/50\n",
      "1000/1000 [==============================] - 0s 40us/step - loss: 4.5214e-05\n",
      "Epoch 31/50\n",
      "1000/1000 [==============================] - 0s 45us/step - loss: 2.8385e-05\n",
      "Epoch 32/50\n",
      "1000/1000 [==============================] - 0s 45us/step - loss: 2.4111e-05\n",
      "Epoch 33/50\n",
      "1000/1000 [==============================] - 0s 44us/step - loss: 7.1005e-05\n",
      "Epoch 34/50\n",
      "1000/1000 [==============================] - 0s 45us/step - loss: 5.2550e-05\n",
      "Epoch 35/50\n",
      "1000/1000 [==============================] - 0s 45us/step - loss: 2.7123e-05\n",
      "Epoch 36/50\n",
      "1000/1000 [==============================] - 0s 47us/step - loss: 2.1864e-05\n",
      "Epoch 37/50\n",
      "1000/1000 [==============================] - 0s 43us/step - loss: 2.1136e-05\n",
      "Epoch 38/50\n",
      "1000/1000 [==============================] - 0s 46us/step - loss: 2.7597e-05\n",
      "Epoch 39/50\n",
      "1000/1000 [==============================] - 0s 45us/step - loss: 2.7281e-05\n",
      "Epoch 40/50\n",
      "1000/1000 [==============================] - 0s 41us/step - loss: 3.8211e-05\n",
      "Epoch 41/50\n",
      "1000/1000 [==============================] - 0s 47us/step - loss: 1.0654e-04\n",
      "Epoch 42/50\n",
      "1000/1000 [==============================] - 0s 42us/step - loss: 5.1666e-05\n",
      "Epoch 43/50\n",
      "1000/1000 [==============================] - 0s 45us/step - loss: 5.9942e-05\n",
      "Epoch 44/50\n",
      "1000/1000 [==============================] - 0s 45us/step - loss: 4.4939e-05\n",
      "Epoch 45/50\n",
      "1000/1000 [==============================] - 0s 45us/step - loss: 5.2135e-05\n",
      "Epoch 46/50\n",
      "1000/1000 [==============================] - 0s 45us/step - loss: 3.5754e-05\n",
      "Epoch 47/50\n",
      "1000/1000 [==============================] - 0s 39us/step - loss: 3.3284e-05\n",
      "Epoch 48/50\n",
      "1000/1000 [==============================] - 0s 47us/step - loss: 3.8235e-05\n",
      "Epoch 49/50\n",
      "1000/1000 [==============================] - 0s 44us/step - loss: 3.6150e-05\n",
      "Epoch 50/50\n",
      "1000/1000 [==============================] - 0s 42us/step - loss: 2.5149e-05\n"
     ]
    },
    {
     "data": {
      "text/plain": [
       "<keras.callbacks.History at 0x1781e4d4f60>"
      ]
     },
     "execution_count": 26,
     "metadata": {},
     "output_type": "execute_result"
    }
   ],
   "source": [
    "# Train Model\n",
    "model.fit(X, Y, epochs=50,shuffle=True,verbose=1)"
   ]
  },
  {
   "cell_type": "code",
   "execution_count": 29,
   "metadata": {},
   "outputs": [
    {
     "name": "stdout",
     "output_type": "stream",
     "text": [
      "The mean Squared error MSE for thet test data is : 0.0011392858671024442\n"
     ]
    }
   ],
   "source": [
    "test_error_rate = model.evaluate(X_test,Y_test, verbose=0)\n",
    "print(\"The mean Squared error MSE for thet test data is : {}\".format(test_error_rate))"
   ]
  },
  {
   "cell_type": "code",
   "execution_count": 30,
   "metadata": {},
   "outputs": [
    {
     "name": "stdout",
     "output_type": "stream",
     "text": [
      "Epoch 1/50\n",
      "1000/1000 [==============================] - 0s 263us/step - loss: 0.0235\n",
      "Epoch 2/50\n",
      "1000/1000 [==============================] - 0s 42us/step - loss: 0.0022\n",
      "Epoch 3/50\n",
      "1000/1000 [==============================] - 0s 34us/step - loss: 0.0013\n",
      "Epoch 4/50\n",
      "1000/1000 [==============================] - 0s 35us/step - loss: 8.5146e-04\n",
      "Epoch 5/50\n",
      "1000/1000 [==============================] - 0s 34us/step - loss: 5.5438e-04\n",
      "Epoch 6/50\n",
      "1000/1000 [==============================] - 0s 42us/step - loss: 4.2695e-04\n",
      "Epoch 7/50\n",
      "1000/1000 [==============================] - 0s 37us/step - loss: 3.2292e-04\n",
      "Epoch 8/50\n",
      "1000/1000 [==============================] - 0s 33us/step - loss: 2.6052e-04\n",
      "Epoch 9/50\n",
      "1000/1000 [==============================] - 0s 34us/step - loss: 2.4749e-04\n",
      "Epoch 10/50\n",
      "1000/1000 [==============================] - 0s 37us/step - loss: 1.8270e-04\n",
      "Epoch 11/50\n",
      "1000/1000 [==============================] - 0s 36us/step - loss: 1.4847e-04\n",
      "Epoch 12/50\n",
      "1000/1000 [==============================] - 0s 36us/step - loss: 1.3730e-04\n",
      "Epoch 13/50\n",
      "1000/1000 [==============================] - 0s 34us/step - loss: 1.3350e-04\n",
      "Epoch 14/50\n",
      "1000/1000 [==============================] - 0s 44us/step - loss: 1.1409e-04\n",
      "Epoch 15/50\n",
      "1000/1000 [==============================] - 0s 45us/step - loss: 9.9855e-05\n",
      "Epoch 16/50\n",
      "1000/1000 [==============================] - 0s 37us/step - loss: 1.0306e-04\n",
      "Epoch 17/50\n",
      "1000/1000 [==============================] - 0s 33us/step - loss: 9.2556e-05\n",
      "Epoch 18/50\n",
      "1000/1000 [==============================] - 0s 36us/step - loss: 8.0810e-05\n",
      "Epoch 19/50\n",
      "1000/1000 [==============================] - 0s 38us/step - loss: 7.4414e-05\n",
      "Epoch 20/50\n",
      "1000/1000 [==============================] - 0s 37us/step - loss: 7.4271e-05\n",
      "Epoch 21/50\n",
      "1000/1000 [==============================] - 0s 35us/step - loss: 6.3536e-05\n",
      "Epoch 22/50\n",
      "1000/1000 [==============================] - 0s 44us/step - loss: 5.9819e-05\n",
      "Epoch 23/50\n",
      "1000/1000 [==============================] - 0s 41us/step - loss: 6.1152e-05\n",
      "Epoch 24/50\n",
      "1000/1000 [==============================] - 0s 38us/step - loss: 5.8181e-05\n",
      "Epoch 25/50\n",
      "1000/1000 [==============================] - 0s 36us/step - loss: 5.6154e-05\n",
      "Epoch 26/50\n",
      "1000/1000 [==============================] - 0s 36us/step - loss: 5.5362e-05\n",
      "Epoch 27/50\n",
      "1000/1000 [==============================] - 0s 41us/step - loss: 5.7204e-05\n",
      "Epoch 28/50\n",
      "1000/1000 [==============================] - 0s 35us/step - loss: 5.5926e-05\n",
      "Epoch 29/50\n",
      "1000/1000 [==============================] - 0s 36us/step - loss: 5.4698e-05\n",
      "Epoch 30/50\n",
      "1000/1000 [==============================] - 0s 44us/step - loss: 5.1677e-05\n",
      "Epoch 31/50\n",
      "1000/1000 [==============================] - 0s 36us/step - loss: 4.1174e-05\n",
      "Epoch 32/50\n",
      "1000/1000 [==============================] - 0s 40us/step - loss: 4.7278e-05\n",
      "Epoch 33/50\n",
      "1000/1000 [==============================] - 0s 36us/step - loss: 3.8654e-05\n",
      "Epoch 34/50\n",
      "1000/1000 [==============================] - 0s 35us/step - loss: 3.8796e-05\n",
      "Epoch 35/50\n",
      "1000/1000 [==============================] - 0s 41us/step - loss: 4.5268e-05\n",
      "Epoch 36/50\n",
      "1000/1000 [==============================] - 0s 36us/step - loss: 4.5274e-05\n",
      "Epoch 37/50\n",
      "1000/1000 [==============================] - 0s 34us/step - loss: 3.8899e-05\n",
      "Epoch 38/50\n",
      "1000/1000 [==============================] - 0s 35us/step - loss: 4.0159e-05\n",
      "Epoch 39/50\n",
      "1000/1000 [==============================] - 0s 37us/step - loss: 3.0536e-05\n",
      "Epoch 40/50\n",
      "1000/1000 [==============================] - 0s 39us/step - loss: 3.3837e-05\n",
      "Epoch 41/50\n",
      "1000/1000 [==============================] - 0s 41us/step - loss: 3.0954e-05\n",
      "Epoch 42/50\n",
      "1000/1000 [==============================] - 0s 42us/step - loss: 3.0161e-05\n",
      "Epoch 43/50\n",
      "1000/1000 [==============================] - 0s 36us/step - loss: 3.9740e-05\n",
      "Epoch 44/50\n",
      "1000/1000 [==============================] - 0s 36us/step - loss: 3.5789e-05\n",
      "Epoch 45/50\n",
      "1000/1000 [==============================] - 0s 37us/step - loss: 3.2332e-05\n",
      "Epoch 46/50\n",
      "1000/1000 [==============================] - 0s 32us/step - loss: 3.3041e-05\n",
      "Epoch 47/50\n",
      "1000/1000 [==============================] - 0s 39us/step - loss: 4.1877e-05\n",
      "Epoch 48/50\n",
      "1000/1000 [==============================] - 0s 38us/step - loss: 3.5893e-05\n",
      "Epoch 49/50\n",
      "1000/1000 [==============================] - 0s 43us/step - loss: 4.3414e-05\n",
      "Epoch 50/50\n",
      "1000/1000 [==============================] - 0s 38us/step - loss: 4.0960e-05\n",
      "The mean Squared error MSE for thet test data is : 0.001751961032859981\n"
     ]
    }
   ],
   "source": [
    "model2 = Sequential()\n",
    "model2.add(Dense(50, input_dim = 9, activation = 'relu'))\n",
    "model2.add(Dense(75, activation = 'relu'))\n",
    "#model2.add(Dense(50, activation = 'relu'))\n",
    "model2.add(Dense(1, activation = 'linear'))\n",
    "model2.compile(loss='mean_squared_error', optimizer='adam')\n",
    "model2.fit(X, Y, epochs=50,shuffle=True,verbose=1)\n",
    "test_error_rate2 = model2.evaluate(X_test,Y_test, verbose=0)\n",
    "print(\"The mean Squared error MSE for thet test data is : {}\".format(test_error_rate2))"
   ]
  },
  {
   "cell_type": "code",
   "execution_count": 34,
   "metadata": {},
   "outputs": [
    {
     "data": {
      "text/plain": [
       "array([[ 0.7,  1. ,  1. ,  1. ,  0. ,  1. ,  0. ,  1. ,  0.8]])"
      ]
     },
     "execution_count": 34,
     "metadata": {},
     "output_type": "execute_result"
    }
   ],
   "source": [
    "prediction_data = pd.read_csv('proposed_new_product.csv').values # Values used to remove header\n",
    "prediction_data"
   ]
  },
  {
   "cell_type": "code",
   "execution_count": 38,
   "metadata": {},
   "outputs": [
    {
     "name": "stdout",
     "output_type": "stream",
     "text": [
      "Earning Prediction for Proposed Product - $240982.9222793286\n"
     ]
    }
   ],
   "source": [
    "prediction = model.predict(prediction_data)\n",
    "prediction = prediction[0][0]\n",
    "prediction = prediction + 0.153415\n",
    "prediction = prediction / 0.0000042367 \n",
    "print(\"Earning Prediction for Proposed Product - ${}\".format(prediction))"
   ]
  },
  {
   "cell_type": "code",
   "execution_count": 39,
   "metadata": {},
   "outputs": [
    {
     "name": "stdout",
     "output_type": "stream",
     "text": [
      "Model saved to disk\n"
     ]
    }
   ],
   "source": [
    "# Save the model to disk\n",
    "model.save('trained_model.h5')\n",
    "print('Model saved to disk')"
   ]
  }
 ],
 "metadata": {
  "kernelspec": {
   "display_name": "Python 3",
   "language": "python",
   "name": "python3"
  },
  "language_info": {
   "codemirror_mode": {
    "name": "ipython",
    "version": 3
   },
   "file_extension": ".py",
   "mimetype": "text/x-python",
   "name": "python",
   "nbconvert_exporter": "python",
   "pygments_lexer": "ipython3",
   "version": "3.6.3"
  }
 },
 "nbformat": 4,
 "nbformat_minor": 2
}
