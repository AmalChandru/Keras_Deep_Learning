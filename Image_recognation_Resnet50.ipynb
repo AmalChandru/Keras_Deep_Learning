{
 "cells": [
  {
   "cell_type": "code",
   "execution_count": 2,
   "metadata": {
    "collapsed": true
   },
   "outputs": [],
   "source": [
    "import numpy as np\n",
    "from keras.preprocessing import image\n",
    "from keras.applications import resnet50"
   ]
  },
  {
   "cell_type": "code",
   "execution_count": 4,
   "metadata": {},
   "outputs": [
    {
     "name": "stdout",
     "output_type": "stream",
     "text": [
      "Downloading data from https://github.com/fchollet/deep-learning-models/releases/download/v0.2/resnet50_weights_tf_dim_ordering_tf_kernels.h5\n",
      "102858752/102853048 [==============================] - 64s 1us/step\n"
     ]
    }
   ],
   "source": [
    "#Load Keras's ResNet50 model that is pre-trained against the ImageNet database.\n",
    "model = resnet50.ResNet50()\n",
    "# When you will run first time, it will download 100 MB model from\n",
    "# https://github.com/fchollet/deep-learning-models/releases/download/v0.2/resnet50_weights_tf_dim_ordering_tf_kernels.h5\n",
    "# If getting download error then try two or three times."
   ]
  },
  {
   "cell_type": "code",
   "execution_count": 5,
   "metadata": {
    "collapsed": true
   },
   "outputs": [],
   "source": [
    "# Load image file and resizing to 224*224 pixels that is required by ResNet50 model\n",
    "img = image.load_img(\"bay.jpg\", target_size=(224, 224))"
   ]
  },
  {
   "cell_type": "code",
   "execution_count": 6,
   "metadata": {
    "collapsed": true
   },
   "outputs": [],
   "source": [
    "# Convert image to a numpy array\n",
    "x = image.img_to_array(img)"
   ]
  },
  {
   "cell_type": "code",
   "execution_count": 7,
   "metadata": {
    "collapsed": true
   },
   "outputs": [],
   "source": [
    "# Add a forth dimension since Keras expecta a list of images.\n",
    "x = np.expand_dims(x, axis=0)"
   ]
  },
  {
   "cell_type": "code",
   "execution_count": 8,
   "metadata": {
    "collapsed": true
   },
   "outputs": [],
   "source": [
    "# Scale the input image to the range used in the trained network\n",
    "x = resnet50.preprocess_input(x)"
   ]
  },
  {
   "cell_type": "code",
   "execution_count": 9,
   "metadata": {
    "collapsed": true
   },
   "outputs": [],
   "source": [
    "# Run the model for prediction for given image\n",
    "#This will return a predictions object. The predictions object is a 1,000 element array of floating point numbers. \n",
    "#Each element in the array tells us how likely our picture contains each of 1,000 objects the model is trained to recognize. \n",
    "#To make things easier, the ResNet 50 model provides a decode predictions function that will just tell \n",
    "#us the names of the most likely matches, instead of making us check all 1,000 possible entries\n",
    "predictions = model.predict(x)"
   ]
  },
  {
   "cell_type": "code",
   "execution_count": 10,
   "metadata": {},
   "outputs": [
    {
     "name": "stdout",
     "output_type": "stream",
     "text": [
      "Downloading data from https://s3.amazonaws.com/deep-learning-models/image-models/imagenet_class_index.json\n",
      "40960/35363 [==================================] - 5s 123us/step\n"
     ]
    }
   ],
   "source": [
    "# Look up the names of the predicted classes.\n",
    "predicted_classes = resnet50.decode_predictions(predictions, top = 9) # by default give top 5 predicted valus.\n",
    "# Downloading data from https://s3.amazonaws.com/deep-learning-models/image-models/imagenet_class_index.json"
   ]
  },
  {
   "cell_type": "code",
   "execution_count": 11,
   "metadata": {},
   "outputs": [
    {
     "name": "stdout",
     "output_type": "stream",
     "text": [
      "This is an image of :\n",
      " seashore: 0.764098 likelihood\n",
      " lakeside: 0.145685 likelihood\n",
      " dock: 0.038846 likelihood\n",
      " breakwater: 0.023576 likelihood\n",
      " promontory: 0.010379 likelihood\n",
      " sandbar: 0.004848 likelihood\n",
      " catamaran: 0.004603 likelihood\n",
      " cliff: 0.000712 likelihood\n",
      " trimaran: 0.000559 likelihood\n"
     ]
    }
   ],
   "source": [
    "print(\"This is an image of :\")\n",
    "for imagenet_id, name, likelihood in predicted_classes[0]:\n",
    "    print(\" {}: {:2f} likelihood\".format(name, likelihood))"
   ]
  }
 ],
 "metadata": {
  "kernelspec": {
   "display_name": "Python 3",
   "language": "python",
   "name": "python3"
  },
  "language_info": {
   "codemirror_mode": {
    "name": "ipython",
    "version": 3
   },
   "file_extension": ".py",
   "mimetype": "text/x-python",
   "name": "python",
   "nbconvert_exporter": "python",
   "pygments_lexer": "ipython3",
   "version": "3.6.3"
  }
 },
 "nbformat": 4,
 "nbformat_minor": 2
}
